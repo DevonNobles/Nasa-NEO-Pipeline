{
 "cells": [
  {
   "cell_type": "code",
   "execution_count": null,
   "id": "65367997-361c-4369-8c37-462de2bb9aed",
   "metadata": {},
   "outputs": [],
   "source": [
    "import sys\n",
    "from pathlib import Path\n",
    "\n",
    "# Add parent directory to Python path\n",
    "parent_dir = Path().resolve().parent\n",
    "sys.path.insert(0, str(parent_dir))"
   ]
  },
  {
   "cell_type": "code",
   "execution_count": null,
   "id": "7e375021-04a8-4dcb-a947-270d612ab49e",
   "metadata": {},
   "outputs": [],
   "source": [
    "%%capture\n",
    "import logging\n",
    "from io import BytesIO\n",
    "from typing import Self, Optional\n",
    "from datetime import datetime\n",
    "import pyspark.pandas as pd\n",
    "from src.spark_session import *\n",
    "\n",
    "logging.getLogger(\"pyspark\").setLevel(logging.ERROR)\n",
    "logging.getLogger(\"py4j\").setLevel(logging.ERROR)"
   ]
  },
  {
   "cell_type": "code",
   "execution_count": null,
   "id": "35abe277-39e4-4ef5-995c-3a0a434135f9",
   "metadata": {
    "scrolled": true
   },
   "outputs": [],
   "source": [
    "spark = create_spark_session('neo')\n",
    "spark.sparkContext.setLogLevel('ERROR')"
   ]
  },
  {
   "cell_type": "markdown",
   "id": "3703ba19-6127-41ec-8db3-67c6e57675d7",
   "metadata": {},
   "source": [
    "# Get Data"
   ]
  },
  {
   "cell_type": "code",
   "execution_count": null,
   "id": "3bf88a67-7b3a-433f-b7e4-fca91a41e1ae",
   "metadata": {},
   "outputs": [],
   "source": [
    "%%capture\n",
    "df = spark.sql(\"SELECT * FROM iceberg_catalog.neo_db.gold_asteroids\").toPandas()"
   ]
  },
  {
   "cell_type": "markdown",
   "id": "17eeef92-0502-4efe-b335-03f9b7d3ba3e",
   "metadata": {},
   "source": [
    "# Configure Plots"
   ]
  },
  {
   "cell_type": "code",
   "execution_count": null,
   "id": "a4ffee57-1216-44aa-85cb-bb4fbae61032",
   "metadata": {},
   "outputs": [],
   "source": [
    "import pandas as pd\n",
    "import panel as pn\n",
    "import hvplot.pandas\n",
    "\n",
    "\n",
    "date_slider = pn.widgets.DateSlider(\n",
    "    name='Select Date',\n",
    "    start=df['observation_date'].min(),\n",
    "    end=df['observation_date'].max(),\n",
    "    value=df['observation_date'].min()\n",
    ")\n",
    "\n",
    "\n",
    "def miss_plot(selected_date):\n",
    "    selected_data = df[df['observation_date'] == selected_date]\n",
    "    print(selected_date)\n",
    "    print(type(selected_date))\n",
    "    return selected_data.hvplot.bar(\n",
    "    x='name', y='miss_distance_ld',\n",
    "    title='Miss Distance per Asteroid',\n",
    "    color='orange', height=300, width=800\n",
    "    )\n",
    "\n",
    "def vel_hist(selected_date):\n",
    "    selected_data = df[df['observation_date'] == selected_date]\n",
    "    return selected_data.hvplot.hist(\n",
    "        'velocity_kps', bins=10, title='Velocity Distribution', \n",
    "        height=300, width=800)\n",
    "    "
   ]
  },
  {
   "cell_type": "code",
   "execution_count": null,
   "id": "e71ec3e3-60c7-4e01-94a8-73b45cf554cd",
   "metadata": {},
   "outputs": [],
   "source": [
    "pn.Column(\n",
    "    \"# 🚀 Near Earth Objects Dashboard\",\n",
    "    date_slider,\n",
    "    pn.bind(miss_plot,date_slider),\n",
    "    pn.bind(vel_hist,date_slider)\n",
    ")"
   ]
  },
  {
   "cell_type": "markdown",
   "id": "bea202a1-c6e5-45ec-b913-23a462ce0d0a",
   "metadata": {},
   "source": [
    "# Dashboard"
   ]
  },
  {
   "cell_type": "code",
   "execution_count": null,
   "id": "6530f3ff-e346-4d4b-8d6a-64364c87618a",
   "metadata": {},
   "outputs": [],
   "source": [
    "close_spark_session(spark)"
   ]
  }
 ],
 "metadata": {
  "kernelspec": {
   "display_name": "nasa_spark_kernel",
   "language": "python",
   "name": "nasa_spark_kernel"
  },
  "language_info": {
   "codemirror_mode": {
    "name": "ipython",
    "version": 3
   },
   "file_extension": ".py",
   "mimetype": "text/x-python",
   "name": "python",
   "nbconvert_exporter": "python",
   "pygments_lexer": "ipython3",
   "version": "3.12.3"
  }
 },
 "nbformat": 4,
 "nbformat_minor": 5
}
