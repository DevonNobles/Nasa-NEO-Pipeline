{
 "cells": [
  {
   "cell_type": "markdown",
   "id": "ad8efa87",
   "metadata": {},
   "source": [
    "***************************************\n",
    "# NASA NEO Data Pipeline\n",
    "***************************************\n",
    "\n",
    "\n",
    "### 1) Initialize Spark Session"
   ]
  },
  {
   "cell_type": "code",
   "execution_count": 1,
   "id": "d290cf13",
   "metadata": {},
   "outputs": [
    {
     "name": "stderr",
     "output_type": "stream",
     "text": [
      "25/05/19 10:30:45 WARN Utils: Your hostname, newlife resolves to a loopback address: 127.0.1.1; using 192.168.0.196 instead (on interface wlp0s20f3)\n",
      "25/05/19 10:30:45 WARN Utils: Set SPARK_LOCAL_IP if you need to bind to another address\n",
      "Setting default log level to \"WARN\".\n",
      "To adjust logging level use sc.setLogLevel(newLevel). For SparkR, use setLogLevel(newLevel).\n",
      "25/05/19 10:30:46 WARN NativeCodeLoader: Unable to load native-hadoop library for your platform... using builtin-java classes where applicable\n"
     ]
    }
   ],
   "source": [
    "import requests\n",
    "import json\n",
    "from pyspark.sql import SparkSession\n",
    "from pyspark.sql.functions import explode, col, explode_outer, from_json, expr, to_date\n",
    "from pyspark.sql.types import StructType, StructField, StringType, DoubleType, BooleanType, LongType, IntegerType\n",
    "from pyspark.sql.types import  ArrayType, MapType\n",
    "\n",
    "spark = SparkSession.builder.appName(\"NASA NEO Data\").getOrCreate()"
   ]
  },
  {
   "cell_type": "markdown",
   "id": "b5b9057b",
   "metadata": {},
   "source": [
    "### 2) Create Schema and Import Data"
   ]
  },
  {
   "cell_type": "code",
   "execution_count": 2,
   "id": "512a5cfc",
   "metadata": {},
   "outputs": [],
   "source": [
    "# Nested structs for velocity\n",
    "velocity_struct = StructType([\n",
    "    StructField(\"kilometers_per_hour\", StringType(), True),\n",
    "    StructField(\"kilometers_per_second\", StringType(), True),\n",
    "    StructField(\"miles_per_hour\", StringType(), True)\n",
    "])\n",
    "\n",
    "# Nested structs for miss distance\n",
    "miss_distance_struct = StructType([\n",
    "    StructField(\"astronomical\", StringType(), True),\n",
    "    StructField(\"kilometers\", StringType(), True),\n",
    "    StructField(\"lunar\", StringType(), True),\n",
    "    StructField(\"miles\", StringType(), True)\n",
    "])\n",
    "\n",
    "# Nested structs for close approach data\n",
    "close_approach_struct = StructType([\n",
    "    StructField(\"close_approach_date\", StringType(), True),\n",
    "    StructField(\"close_approach_date_full\", StringType(), True),\n",
    "    StructField(\"epoch_date_close_approach\", LongType(), True),\n",
    "    StructField(\"miss_distance\", miss_distance_struct, True),\n",
    "    StructField(\"orbiting_body\", StringType(), True),\n",
    "    StructField(\"relative_velocity\", velocity_struct, True)\n",
    "])\n",
    "\n",
    "# Nested structs for diameter measurements\n",
    "diameter_dimension_struct = StructType([\n",
    "    StructField(\"estimated_diameter_min\", DoubleType(), True),\n",
    "    StructField(\"estimated_diameter_max\", DoubleType(), True)\n",
    "])\n",
    "\n",
    "# Estimated diameter struct with various units\n",
    "estimated_diameter_struct = StructType([\n",
    "    StructField(\"feet\", diameter_dimension_struct, True),\n",
    "    StructField(\"kilometers\", diameter_dimension_struct, True),\n",
    "    StructField(\"meters\", diameter_dimension_struct, True),\n",
    "    StructField(\"miles\", diameter_dimension_struct, True)\n",
    "])\n",
    "\n",
    "# Links struct\n",
    "links_struct = StructType([\n",
    "    StructField(\"next\", StringType(), True),\n",
    "    StructField(\"previous\", StringType(), True),\n",
    "    StructField(\"self\", StringType(), True)\n",
    "])\n",
    "\n",
    "# Asteroid object struct\n",
    "asteroid_struct = StructType([\n",
    "    StructField(\"absolute_magnitude_h\", DoubleType(), True),\n",
    "    StructField(\"close_approach_data\", ArrayType(close_approach_struct), True),\n",
    "    StructField(\"estimated_diameter\", estimated_diameter_struct, True),\n",
    "    StructField(\"id\", StringType(), True),\n",
    "    StructField(\"is_potentially_hazardous_asteroid\", BooleanType(), True),\n",
    "    StructField(\"is_sentry_object\", BooleanType(), True),\n",
    "    StructField(\"links\", links_struct, True),\n",
    "    StructField(\"name\", StringType(), True),\n",
    "    StructField(\"nasa_jpl_url\", StringType(), True),\n",
    "    StructField(\"neo_reference_id\", StringType(), True),\n",
    "    StructField(\"sentry_data\", StringType(), True)\n",
    "])\n",
    "\n",
    "# Main schema with dates as keys and arrays of asteroid objects as values\n",
    "neo_struct = StructType([\n",
    "    StructField(\"2025-05-03\", ArrayType(asteroid_struct), True),\n",
    "    StructField(\"2025-05-04\", ArrayType(asteroid_struct), True),\n",
    "    StructField(\"2025-05-05\", ArrayType(asteroid_struct), True),\n",
    "    StructField(\"2025-05-06\", ArrayType(asteroid_struct), True),\n",
    "    StructField(\"2025-05-07\", ArrayType(asteroid_struct), True),\n",
    "    StructField(\"2025-05-08\", ArrayType(asteroid_struct), True),\n",
    "    StructField(\"2025-05-09\", ArrayType(asteroid_struct), True)\n",
    "])\n",
    "\n",
    "schema = StructType([\n",
    "    StructField('links', links_struct),\n",
    "    StructField('element_count', IntegerType()),\n",
    "    StructField('near_earth_objects', MapType(StringType(),ArrayType(asteroid_struct)))\n",
    "])"
   ]
  },
  {
   "cell_type": "code",
   "execution_count": 3,
   "id": "7bf289dd",
   "metadata": {},
   "outputs": [],
   "source": [
    "# Import sample data\n",
    "json_path = 'sample_data.json'\n",
    "raw_df = spark.read.option(\"multiline\", \"true\").schema(schema).json(json_path)"
   ]
  },
  {
   "cell_type": "markdown",
   "id": "687b5e74",
   "metadata": {},
   "source": [
    "### 3) Process Data with DateFrame API"
   ]
  },
  {
   "cell_type": "code",
   "execution_count": 26,
   "id": "b769fc38",
   "metadata": {},
   "outputs": [],
   "source": [
    "def process_neo_data(df):\n",
    "    # Explode the near_earth_objects map to get date and asteroids array\n",
    "    date_df = df.select(explode(expr(\"map_entries(near_earth_objects)\"))).toDF(\"date_entry\")\n",
    "\n",
    "    # Extract date and asteroids array\n",
    "    date_df = date_df.select(\n",
    "        col(\"date_entry.key\").alias(\"observation_date\"),\n",
    "        explode(col(\"date_entry.value\")).alias(\"asteroid\")\n",
    "    )\n",
    "\n",
    "    # Extract asteroid properties\n",
    "    asteroid_df = date_df.select(\n",
    "        col(\"observation_date\"),\n",
    "        col(\"asteroid.id\").alias(\"asteroid_id\"),\n",
    "        col(\"asteroid.neo_reference_id\"),\n",
    "        col(\"asteroid.name\"),\n",
    "        col(\"asteroid.nasa_jpl_url\"),\n",
    "        col(\"asteroid.absolute_magnitude_h\"),\n",
    "        col(\"asteroid.estimated_diameter.kilometers.estimated_diameter_min\").alias(\"diameter_min_km\"),\n",
    "        col(\"asteroid.estimated_diameter.kilometers.estimated_diameter_max\").alias(\"diameter_max_km\"),\n",
    "        col(\"asteroid.is_potentially_hazardous_asteroid\"),\n",
    "        col(\"asteroid.is_sentry_object\"),\n",
    "        explode(col(\"asteroid.close_approach_data\")).alias(\"approach\")\n",
    "    )\n",
    "\n",
    "    # Extract approach data\n",
    "    approach_df = asteroid_df.select(\n",
    "        col(\"observation_date\"),\n",
    "        col(\"asteroid_id\"),\n",
    "        col(\"name\"),\n",
    "        col(\"nasa_jpl_url\").alias('url'),\n",
    "        col(\"diameter_min_km\"),\n",
    "        col(\"diameter_max_km\"),\n",
    "        col(\"is_potentially_hazardous_asteroid\").alias('potentially_hazardous'),\n",
    "        col(\"is_sentry_object\"),\n",
    "        col(\"approach.close_approach_date_full\").alias('close_approach_date'),\n",
    "        col(\"approach.relative_velocity.kilometers_per_hour\").alias(\"velocity_kph\"),\n",
    "        col(\"approach.miss_distance.kilometers\").alias(\"miss_distance_km\"),\n",
    "        col(\"approach.orbiting_body\")\n",
    "    )\n",
    "\n",
    "    # Convert string columns to appropriate types\n",
    "    final_df = approach_df.withColumn(\"observation_date\", to_date(col(\"observation_date\")))\n",
    "    final_df = final_df.withColumn(\"close_approach_date\", to_date(col(\"close_approach_date\")))\n",
    "    final_df = final_df.withColumn(\"velocity_kph\", col(\"velocity_kph\").cast(DoubleType()))\n",
    "    final_df = final_df.withColumn(\"miss_distance_km\", col(\"miss_distance_km\").cast(DoubleType()))\n",
    "\n",
    "    return final_df\n",
    "\n",
    "# Apply the transformation\n",
    "result_df = process_neo_data(raw_df)"
   ]
  },
  {
   "cell_type": "markdown",
   "id": "57156c33",
   "metadata": {},
   "source": [
    "### 4) Query the Results"
   ]
  },
  {
   "cell_type": "code",
   "execution_count": 27,
   "id": "f0b61b63",
   "metadata": {},
   "outputs": [],
   "source": [
    "result_df.createOrReplaceTempView('neo')"
   ]
  },
  {
   "cell_type": "code",
   "execution_count": 37,
   "id": "1e55c1bf",
   "metadata": {},
   "outputs": [],
   "source": [
    "query = (\n",
    "\"\"\"\n",
    "SELECT  \n",
    "orbiting_body,\n",
    "count(asteroid_id) AS `asteroid_count`\n",
    "FROM neo\n",
    "GROUP BY orbiting_body\n",
    "\"\"\"\n",
    ")"
   ]
  },
  {
   "cell_type": "code",
   "execution_count": 38,
   "id": "e81abebf",
   "metadata": {},
   "outputs": [
    {
     "name": "stdout",
     "output_type": "stream",
     "text": [
      "+-------------+--------------+\n",
      "|orbiting_body|asteroid_count|\n",
      "+-------------+--------------+\n",
      "|        Earth|           120|\n",
      "+-------------+--------------+\n",
      "\n"
     ]
    }
   ],
   "source": [
    "spark.sql(query).show(120)"
   ]
  },
  {
   "cell_type": "code",
   "execution_count": 30,
   "id": "a5a2e923",
   "metadata": {},
   "outputs": [
    {
     "data": {
      "text/plain": [
       "['observation_date',\n",
       " 'asteroid_id',\n",
       " 'name',\n",
       " 'url',\n",
       " 'diameter_min_km',\n",
       " 'diameter_max_km',\n",
       " 'potentially_hazardous',\n",
       " 'is_sentry_object',\n",
       " 'close_approach_date',\n",
       " 'velocity_kph',\n",
       " 'miss_distance_km',\n",
       " 'orbiting_body']"
      ]
     },
     "execution_count": 30,
     "metadata": {},
     "output_type": "execute_result"
    }
   ],
   "source": [
    "result_df.columns"
   ]
  }
 ],
 "metadata": {
  "kernelspec": {
   "display_name": "nasa_spark_kernel",
   "language": "python",
   "name": "nasa_spark_kernel"
  },
  "language_info": {
   "codemirror_mode": {
    "name": "ipython",
    "version": 3
   },
   "file_extension": ".py",
   "mimetype": "text/x-python",
   "name": "python",
   "nbconvert_exporter": "python",
   "pygments_lexer": "ipython3",
   "version": "3.12.3"
  }
 },
 "nbformat": 4,
 "nbformat_minor": 5
}
