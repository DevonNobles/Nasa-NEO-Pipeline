{
 "cells": [
  {
   "cell_type": "code",
   "execution_count": 1,
   "id": "38e66ab6",
   "metadata": {},
   "outputs": [
    {
     "name": "stderr",
     "output_type": "stream",
     "text": [
      "25/05/21 23:03:36 WARN Utils: Your hostname, newlife resolves to a loopback address: 127.0.1.1; using 192.168.122.1 instead (on interface virbr0)\n",
      "25/05/21 23:03:36 WARN Utils: Set SPARK_LOCAL_IP if you need to bind to another address\n",
      "Setting default log level to \"WARN\".\n",
      "To adjust logging level use sc.setLogLevel(newLevel). For SparkR, use setLogLevel(newLevel).\n",
      "25/05/21 23:03:37 WARN NativeCodeLoader: Unable to load native-hadoop library for your platform... using builtin-java classes where applicable\n",
      "25/05/21 23:03:53 WARN GarbageCollectionMetrics: To enable non-built-in garbage collector(s) List(G1 Concurrent GC), users should configure it(them) to spark.eventLog.gcMetrics.youngGenerationGarbageCollectors or spark.eventLog.gcMetrics.oldGenerationGarbageCollectors\n"
     ]
    }
   ],
   "source": [
    "from process_neo_json import spark, schema, process_neo_json"
   ]
  },
  {
   "cell_type": "code",
   "execution_count": 4,
   "id": "063dc97a",
   "metadata": {},
   "outputs": [
    {
     "data": {
      "text/plain": [
       "DataFrame[]"
      ]
     },
     "execution_count": 4,
     "metadata": {},
     "output_type": "execute_result"
    }
   ],
   "source": [
    "spark.sql(\"\"\"\n",
    "CREATE DATABASE IF NOT EXISTS neo;\n",
    "\"\"\"\n",
    "         )"
   ]
  },
  {
   "cell_type": "code",
   "execution_count": 6,
   "id": "960fd532",
   "metadata": {},
   "outputs": [
    {
     "name": "stderr",
     "output_type": "stream",
     "text": [
      "25/05/21 23:08:37 WARN ResolveSessionCatalog: A Hive serde table will be created as there is no table provider specified. You can set spark.sql.legacy.createHiveTableByDefault to false so that native data source table will be created instead.\n"
     ]
    },
    {
     "ename": "AnalysisException",
     "evalue": "[NOT_SUPPORTED_COMMAND_WITHOUT_HIVE_SUPPORT] CREATE Hive TABLE (AS SELECT) is not supported, if you want to enable it, please set \"spark.sql.catalogImplementation\" to \"hive\".;\n'CreateTable `spark_catalog`.`neo`.`silver`, org.apache.hadoop.hive.serde2.lazy.LazySimpleSerDe, Ignore\n",
     "output_type": "error",
     "traceback": [
      "\u001b[31m---------------------------------------------------------------------------\u001b[39m",
      "\u001b[31mAnalysisException\u001b[39m                         Traceback (most recent call last)",
      "\u001b[36mCell\u001b[39m\u001b[36m \u001b[39m\u001b[32mIn[6]\u001b[39m\u001b[32m, line 1\u001b[39m\n\u001b[32m----> \u001b[39m\u001b[32m1\u001b[39m \u001b[43mspark\u001b[49m\u001b[43m.\u001b[49m\u001b[43msql\u001b[49m\u001b[43m(\u001b[49m\u001b[33;43m\"\"\"\u001b[39;49m\n\u001b[32m      2\u001b[39m \u001b[33;43mCREATE TABLE IF NOT EXISTS neo.silver (\u001b[39;49m\n\u001b[32m      3\u001b[39m \u001b[33;43m    observation_date DATE,\u001b[39;49m\n\u001b[32m      4\u001b[39m \u001b[33;43m    asteroid_id VARCHAR(255),\u001b[39;49m\n\u001b[32m      5\u001b[39m \u001b[33;43m    neo_reference_id VARCHAR(255),\u001b[39;49m\n\u001b[32m      6\u001b[39m \u001b[33;43m    name VARCHAR(500),\u001b[39;49m\n\u001b[32m      7\u001b[39m \u001b[33;43m    nasa_jpl_url VARCHAR(1000),\u001b[39;49m\n\u001b[32m      8\u001b[39m \u001b[33;43m    absolute_magnitude_h DOUBLE,\u001b[39;49m\n\u001b[32m      9\u001b[39m \u001b[33;43m    diameter_min_km DOUBLE,\u001b[39;49m\n\u001b[32m     10\u001b[39m \u001b[33;43m    diameter_max_km DOUBLE,\u001b[39;49m\n\u001b[32m     11\u001b[39m \u001b[33;43m    is_potentially_hazardous_asteroid BOOLEAN,\u001b[39;49m\n\u001b[32m     12\u001b[39m \u001b[33;43m    is_sentry_object BOOLEAN,\u001b[39;49m\n\u001b[32m     13\u001b[39m \u001b[33;43m    close_approach_date DATE,\u001b[39;49m\n\u001b[32m     14\u001b[39m \u001b[33;43m    close_approach_date_full VARCHAR(100),\u001b[39;49m\n\u001b[32m     15\u001b[39m \u001b[33;43m    epoch_date_close_approach BIGINT,\u001b[39;49m\n\u001b[32m     16\u001b[39m \u001b[33;43m    velocity_km_s DOUBLE,\u001b[39;49m\n\u001b[32m     17\u001b[39m \u001b[33;43m    velocity_kph DOUBLE,\u001b[39;49m\n\u001b[32m     18\u001b[39m \u001b[33;43m    velocity_mph DOUBLE,\u001b[39;49m\n\u001b[32m     19\u001b[39m \u001b[33;43m    miss_distance_au DOUBLE,\u001b[39;49m\n\u001b[32m     20\u001b[39m \u001b[33;43m    miss_distance_ld DOUBLE,\u001b[39;49m\n\u001b[32m     21\u001b[39m \u001b[33;43m    miss_distance_km DOUBLE,\u001b[39;49m\n\u001b[32m     22\u001b[39m \u001b[33;43m    miss_distance_mi DOUBLE,\u001b[39;49m\n\u001b[32m     23\u001b[39m \u001b[33;43m    orbiting_body VARCHAR(50)\u001b[39;49m\n\u001b[32m     24\u001b[39m \u001b[33;43m)\u001b[39;49m\n\u001b[32m     25\u001b[39m \u001b[33;43m;\u001b[39;49m\n\u001b[32m     26\u001b[39m \u001b[33;43m\"\"\"\u001b[39;49m\n\u001b[32m     27\u001b[39m \u001b[43m         \u001b[49m\u001b[43m)\u001b[49m\n",
      "\u001b[36mFile \u001b[39m\u001b[32m~/Projects/PycharmProjects/nasa-neo-pipeline/.venv/lib/python3.12/site-packages/pyspark/sql/session.py:1631\u001b[39m, in \u001b[36mSparkSession.sql\u001b[39m\u001b[34m(self, sqlQuery, args, **kwargs)\u001b[39m\n\u001b[32m   1627\u001b[39m         \u001b[38;5;28;01massert\u001b[39;00m \u001b[38;5;28mself\u001b[39m._jvm \u001b[38;5;129;01mis\u001b[39;00m \u001b[38;5;129;01mnot\u001b[39;00m \u001b[38;5;28;01mNone\u001b[39;00m\n\u001b[32m   1628\u001b[39m         litArgs = \u001b[38;5;28mself\u001b[39m._jvm.PythonUtils.toArray(\n\u001b[32m   1629\u001b[39m             [_to_java_column(lit(v)) \u001b[38;5;28;01mfor\u001b[39;00m v \u001b[38;5;129;01min\u001b[39;00m (args \u001b[38;5;129;01mor\u001b[39;00m [])]\n\u001b[32m   1630\u001b[39m         )\n\u001b[32m-> \u001b[39m\u001b[32m1631\u001b[39m     \u001b[38;5;28;01mreturn\u001b[39;00m DataFrame(\u001b[38;5;28;43mself\u001b[39;49m\u001b[43m.\u001b[49m\u001b[43m_jsparkSession\u001b[49m\u001b[43m.\u001b[49m\u001b[43msql\u001b[49m\u001b[43m(\u001b[49m\u001b[43msqlQuery\u001b[49m\u001b[43m,\u001b[49m\u001b[43m \u001b[49m\u001b[43mlitArgs\u001b[49m\u001b[43m)\u001b[49m, \u001b[38;5;28mself\u001b[39m)\n\u001b[32m   1632\u001b[39m \u001b[38;5;28;01mfinally\u001b[39;00m:\n\u001b[32m   1633\u001b[39m     \u001b[38;5;28;01mif\u001b[39;00m \u001b[38;5;28mlen\u001b[39m(kwargs) > \u001b[32m0\u001b[39m:\n",
      "\u001b[36mFile \u001b[39m\u001b[32m~/Projects/PycharmProjects/nasa-neo-pipeline/.venv/lib/python3.12/site-packages/py4j/java_gateway.py:1322\u001b[39m, in \u001b[36mJavaMember.__call__\u001b[39m\u001b[34m(self, *args)\u001b[39m\n\u001b[32m   1316\u001b[39m command = proto.CALL_COMMAND_NAME +\\\n\u001b[32m   1317\u001b[39m     \u001b[38;5;28mself\u001b[39m.command_header +\\\n\u001b[32m   1318\u001b[39m     args_command +\\\n\u001b[32m   1319\u001b[39m     proto.END_COMMAND_PART\n\u001b[32m   1321\u001b[39m answer = \u001b[38;5;28mself\u001b[39m.gateway_client.send_command(command)\n\u001b[32m-> \u001b[39m\u001b[32m1322\u001b[39m return_value = \u001b[43mget_return_value\u001b[49m\u001b[43m(\u001b[49m\n\u001b[32m   1323\u001b[39m \u001b[43m    \u001b[49m\u001b[43manswer\u001b[49m\u001b[43m,\u001b[49m\u001b[43m \u001b[49m\u001b[38;5;28;43mself\u001b[39;49m\u001b[43m.\u001b[49m\u001b[43mgateway_client\u001b[49m\u001b[43m,\u001b[49m\u001b[43m \u001b[49m\u001b[38;5;28;43mself\u001b[39;49m\u001b[43m.\u001b[49m\u001b[43mtarget_id\u001b[49m\u001b[43m,\u001b[49m\u001b[43m \u001b[49m\u001b[38;5;28;43mself\u001b[39;49m\u001b[43m.\u001b[49m\u001b[43mname\u001b[49m\u001b[43m)\u001b[49m\n\u001b[32m   1325\u001b[39m \u001b[38;5;28;01mfor\u001b[39;00m temp_arg \u001b[38;5;129;01min\u001b[39;00m temp_args:\n\u001b[32m   1326\u001b[39m     \u001b[38;5;28;01mif\u001b[39;00m \u001b[38;5;28mhasattr\u001b[39m(temp_arg, \u001b[33m\"\u001b[39m\u001b[33m_detach\u001b[39m\u001b[33m\"\u001b[39m):\n",
      "\u001b[36mFile \u001b[39m\u001b[32m~/Projects/PycharmProjects/nasa-neo-pipeline/.venv/lib/python3.12/site-packages/pyspark/errors/exceptions/captured.py:185\u001b[39m, in \u001b[36mcapture_sql_exception.<locals>.deco\u001b[39m\u001b[34m(*a, **kw)\u001b[39m\n\u001b[32m    181\u001b[39m converted = convert_exception(e.java_exception)\n\u001b[32m    182\u001b[39m \u001b[38;5;28;01mif\u001b[39;00m \u001b[38;5;129;01mnot\u001b[39;00m \u001b[38;5;28misinstance\u001b[39m(converted, UnknownException):\n\u001b[32m    183\u001b[39m     \u001b[38;5;66;03m# Hide where the exception came from that shows a non-Pythonic\u001b[39;00m\n\u001b[32m    184\u001b[39m     \u001b[38;5;66;03m# JVM exception message.\u001b[39;00m\n\u001b[32m--> \u001b[39m\u001b[32m185\u001b[39m     \u001b[38;5;28;01mraise\u001b[39;00m converted \u001b[38;5;28;01mfrom\u001b[39;00m\u001b[38;5;250m \u001b[39m\u001b[38;5;28;01mNone\u001b[39;00m\n\u001b[32m    186\u001b[39m \u001b[38;5;28;01melse\u001b[39;00m:\n\u001b[32m    187\u001b[39m     \u001b[38;5;28;01mraise\u001b[39;00m\n",
      "\u001b[31mAnalysisException\u001b[39m: [NOT_SUPPORTED_COMMAND_WITHOUT_HIVE_SUPPORT] CREATE Hive TABLE (AS SELECT) is not supported, if you want to enable it, please set \"spark.sql.catalogImplementation\" to \"hive\".;\n'CreateTable `spark_catalog`.`neo`.`silver`, org.apache.hadoop.hive.serde2.lazy.LazySimpleSerDe, Ignore\n"
     ]
    }
   ],
   "source": [
    "spark.sql(\"\"\"\n",
    "CREATE TABLE IF NOT EXISTS neo.silver (\n",
    "    observation_date DATE,\n",
    "    asteroid_id VARCHAR(255),\n",
    "    neo_reference_id VARCHAR(255),\n",
    "    name VARCHAR(500),\n",
    "    nasa_jpl_url VARCHAR(1000),\n",
    "    absolute_magnitude_h DOUBLE,\n",
    "    diameter_min_km DOUBLE,\n",
    "    diameter_max_km DOUBLE,\n",
    "    is_potentially_hazardous_asteroid BOOLEAN,\n",
    "    is_sentry_object BOOLEAN,\n",
    "    close_approach_date DATE,\n",
    "    close_approach_date_full VARCHAR(100),\n",
    "    epoch_date_close_approach BIGINT,\n",
    "    velocity_km_s DOUBLE,\n",
    "    velocity_kph DOUBLE,\n",
    "    velocity_mph DOUBLE,\n",
    "    miss_distance_au DOUBLE,\n",
    "    miss_distance_ld DOUBLE,\n",
    "    miss_distance_km DOUBLE,\n",
    "    miss_distance_mi DOUBLE,\n",
    "    orbiting_body VARCHAR(50)\n",
    ")\n",
    ";\n",
    "\"\"\"\n",
    "         )"
   ]
  },
  {
   "cell_type": "code",
   "execution_count": null,
   "id": "15723c7e",
   "metadata": {},
   "outputs": [],
   "source": [
    "df = spark.createDataFrame(data, schema)\n",
    "df.writeTo(\"neo.silver\").append()"
   ]
  }
 ],
 "metadata": {
  "kernelspec": {
   "display_name": "nasa_spark_kernel",
   "language": "python",
   "name": "nasa_spark_kernel"
  },
  "language_info": {
   "codemirror_mode": {
    "name": "ipython",
    "version": 3
   },
   "file_extension": ".py",
   "mimetype": "text/x-python",
   "name": "python",
   "nbconvert_exporter": "python",
   "pygments_lexer": "ipython3",
   "version": "3.12.3"
  }
 },
 "nbformat": 4,
 "nbformat_minor": 5
}
