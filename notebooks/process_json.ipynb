{
 "cells": [
  {
   "cell_type": "code",
   "execution_count": 3,
   "id": "38e66ab6",
   "metadata": {},
   "outputs": [
    {
     "ename": "ModuleNotFoundError",
     "evalue": "No module named 'src'",
     "output_type": "error",
     "traceback": [
      "\u001b[31m---------------------------------------------------------------------------\u001b[39m",
      "\u001b[31mModuleNotFoundError\u001b[39m                       Traceback (most recent call last)",
      "\u001b[36mCell\u001b[39m\u001b[36m \u001b[39m\u001b[32mIn[3]\u001b[39m\u001b[32m, line 1\u001b[39m\n\u001b[32m----> \u001b[39m\u001b[32m1\u001b[39m \u001b[38;5;28;01mfrom\u001b[39;00m\u001b[38;5;250m \u001b[39m\u001b[34;01msrc\u001b[39;00m\u001b[34;01m.\u001b[39;00m\u001b[34;01mprocess_neo_json\u001b[39;00m\u001b[38;5;250m \u001b[39m\u001b[38;5;28;01mimport\u001b[39;00m spark, schema, process_neo_json\n",
      "\u001b[31mModuleNotFoundError\u001b[39m: No module named 'src'"
     ]
    }
   ],
   "source": [
    "from src.process_neo_json import spark, schema, process_neo_json"
   ]
  },
  {
   "cell_type": "code",
   "execution_count": null,
   "id": "063dc97a",
   "metadata": {},
   "outputs": [],
   "source": [
    "spark.sql(\"\"\"\n",
    "CREATE DATABASE IF NOT EXISTS neo;\n",
    "\"\"\"\n",
    "         )"
   ]
  },
  {
   "cell_type": "code",
   "execution_count": null,
   "id": "960fd532",
   "metadata": {},
   "outputs": [],
   "source": [
    "spark.sql(\"\"\"\n",
    "CREATE TABLE IF NOT EXISTS neo.silver (\n",
    "    observation_date DATE,\n",
    "    asteroid_id VARCHAR(255),\n",
    "    neo_reference_id VARCHAR(255),\n",
    "    name VARCHAR(500),\n",
    "    nasa_jpl_url VARCHAR(1000),\n",
    "    absolute_magnitude_h DOUBLE,\n",
    "    diameter_min_km DOUBLE,\n",
    "    diameter_max_km DOUBLE,\n",
    "    is_potentially_hazardous_asteroid BOOLEAN,\n",
    "    is_sentry_object BOOLEAN,\n",
    "    close_approach_date DATE,\n",
    "    close_approach_date_full VARCHAR(100),\n",
    "    epoch_date_close_approach BIGINT,\n",
    "    velocity_km_s DOUBLE,\n",
    "    velocity_kph DOUBLE,\n",
    "    velocity_mph DOUBLE,\n",
    "    miss_distance_au DOUBLE,\n",
    "    miss_distance_ld DOUBLE,\n",
    "    miss_distance_km DOUBLE,\n",
    "    miss_distance_mi DOUBLE,\n",
    "    orbiting_body VARCHAR(50)\n",
    ")\n",
    ";\n",
    "USING ICEBERG\n",
    "\"\"\"\n",
    "         )"
   ]
  },
  {
   "cell_type": "code",
   "execution_count": null,
   "id": "15723c7e",
   "metadata": {},
   "outputs": [],
   "source": [
    "df = spark.createDataFrame(data, schema)\n",
    "df.writeTo(\"neo.silver\").append()"
   ]
  }
 ],
 "metadata": {
  "kernelspec": {
   "display_name": "nasa_spark_kernel",
   "language": "python",
   "name": "nasa_spark_kernel"
  },
  "language_info": {
   "codemirror_mode": {
    "name": "ipython",
    "version": 3
   },
   "file_extension": ".py",
   "mimetype": "text/x-python",
   "name": "python",
   "nbconvert_exporter": "python",
   "pygments_lexer": "ipython3",
   "version": "3.12.3"
  }
 },
 "nbformat": 4,
 "nbformat_minor": 5
}
